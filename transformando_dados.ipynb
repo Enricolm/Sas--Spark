{
 "cells": [
  {
   "cell_type": "code",
   "execution_count": 1,
   "id": "d6c8bd5d-14df-4370-83f9-7ca1f2627443",
   "metadata": {},
   "outputs": [],
   "source": [
    "from pyspark.sql import SparkSession, functions as f\n",
    "from pyspark.sql.types import *"
   ]
  },
  {
   "cell_type": "code",
   "execution_count": 2,
   "id": "2708ac2c-640f-4de8-a2bf-c40216ccd543",
   "metadata": {},
   "outputs": [],
   "source": [
    "spark = SparkSession.builder.appName(\"transformando_dados\").getOrCreate()"
   ]
  },
  {
   "cell_type": "code",
   "execution_count": 3,
   "id": "ffdab885-9fa3-4f53-9934-8820bcced9d8",
   "metadata": {},
   "outputs": [],
   "source": [
    "schema_produto = StructType([\n",
    "    StructField(\"CPF\", StringType()),\n",
    "    StructField(\"Nome\", StringType()),\n",
    "    StructField(\"Nascimento\", StringType()),\n",
    "    StructField(\"Sexo\", StringType()),\n",
    "    StructField(\"Est_civil\", StringType()),\n",
    "    StructField(\"Email\", StringType()),\n",
    "    StructField(\"Telefone\", StringType()),\n",
    "    StructField(\"CEP\", StringType()),\n",
    "\n",
    "])\n",
    "\n",
    "cadastro_produtos = spark.read.csv(\"C:/Users/User/Documents/Enrico Lopes/Enrico_0711/cadastro_clientes.csv\", sep= \";\", header=True, schema=schema_produto)"
   ]
  },
  {
   "cell_type": "code",
   "execution_count": 4,
   "id": "5baf4090-c988-4bab-a40e-6ccb2cd2c843",
   "metadata": {},
   "outputs": [
    {
     "name": "stdout",
     "output_type": "stream",
     "text": [
      "+--------------+------------------+----------+----+---------+--------------------+---------------+---------+\n",
      "|           CPF|              Nome|Nascimento|Sexo|Est_civil|               Email|       Telefone|      CEP|\n",
      "+--------------+------------------+----------+----+---------+--------------------+---------------+---------+\n",
      "|520.017.343-01|   Reginald Peters|1991-03-06|   M| Solteiro| rpeters0@drupal.org|(78) 78861-9709|64117-975|\n",
      "|437.566.711-51|         Ana Silby|1996-10-02|   M| Solteiro| asilby1@webnode.com|(46) 69258-7627|95573-951|\n",
      "|629.681.648-43|    Adda MacKenzie|1991-01-09|   M| Solteiro|amackenzie2@webs.com|(77) 90403-5009|05071-530|\n",
      "|881.223.868-21|      Stacia Deerr|1997-12-25|   F|   Casado|     sdeerr3@loc.gov|(27) 95626-8792|08501-183|\n",
      "|161.145.928-70|    Samuele Seager|1981-06-15|   F| Solteiro| sseager4@github.com|(88) 09083-6272|04302-305|\n",
      "|439.045.671-48|   Wilow Simonitto|1990-12-05|   F|   Casado| wsimonitto5@who.int|(11) 69257-2081|78118-242|\n",
      "|549.960.571-32|    Nicolea McCart|1996-10-02|   F| Solteiro|   nmccart6@hibu.com|(63) 12292-6838|77294-125|\n",
      "|027.227.518-15|      Mela Barbery|1971-03-13|   M| Solteiro|  mbarbery7@ehow.com|(25) 51475-4721|11750-118|\n",
      "|871.854.642-80|       Vin Beadles|1986-12-02|   F| Solteiro|vbeadles8@amazon....|(31) 94412-3665|60251-031|\n",
      "|723.112.033-59|     Brockie Otton|1993-06-22|   F|   Casado|botton9@symantec.com|(59) 94975-7452|35773-524|\n",
      "|214.643.968-22|      Glyn Pointin|1994-05-19|   F| Solteiro|gpointina@auda.or...|(17) 27915-4198|04483-536|\n",
      "|873.196.225-34|     Cory McDuffie|1989-09-06|   M| Solteiro|  cmcduffieb@npr.org|(85) 31043-3249|44069-011|\n",
      "|169.575.731-97|   Milo Mindenhall|1981-07-09|   M| Solteiro|mmindenhallc@refe...|(08) 03792-4919|77104-874|\n",
      "|010.451.188-17|      Cedric Dicey|1996-04-11|   F| Solteiro|cdiceyd@opensourc...|(10) 02259-8873|07034-935|\n",
      "|933.144.308-85|Marshall Hargreves|1979-08-23|   M|   Casado|mhargrevese@scien...|(86) 80403-5511|02045-254|\n",
      "|468.761.387-40|      Corina Dyble|1993-07-15|   M|   Casado|   cdyblef@apple.com|(16) 21729-5987|29122-076|\n",
      "|050.699.577-89|  Hayley Wickstead|1985-06-10|   F| Solteiro|hwicksteadg@wooth...|(98) 11177-4992|27743-608|\n",
      "|606.177.458-85| Roarke Robertelli|1988-11-23|   M| Solteiro|rrobertellih@blin...|(93) 40849-8988|07657-186|\n",
      "|770.556.957-06|      Nappie Kulic|1987-01-07|   M|   Casado| nkulici@smugmug.com|(90) 56949-5851|20672-390|\n",
      "|424.668.528-32|   Pierce Rendbaek|1981-05-30|   F|     NULL|  prendbaekj@bbb.org|(50) 39530-5957|11739-713|\n",
      "+--------------+------------------+----------+----+---------+--------------------+---------------+---------+\n",
      "only showing top 20 rows\n",
      "\n"
     ]
    }
   ],
   "source": [
    "cadastro_produtos.show()"
   ]
  },
  {
   "cell_type": "code",
   "execution_count": 5,
   "id": "3e342e0e-36bd-4198-87be-fa1ccac0e3fa",
   "metadata": {},
   "outputs": [
    {
     "name": "stdout",
     "output_type": "stream",
     "text": [
      "root\n",
      " |-- CPF: string (nullable = true)\n",
      " |-- Nome: string (nullable = true)\n",
      " |-- Nascimento: string (nullable = true)\n",
      " |-- Sexo: string (nullable = true)\n",
      " |-- Est_civil: string (nullable = true)\n",
      " |-- Email: string (nullable = true)\n",
      " |-- Telefone: string (nullable = true)\n",
      " |-- CEP: string (nullable = true)\n",
      "\n"
     ]
    }
   ],
   "source": [
    "cadastro_produtos.printSchema()"
   ]
  },
  {
   "cell_type": "code",
   "execution_count": 6,
   "id": "7818878d-98f8-41fa-a6a1-fb5b9a90ed32",
   "metadata": {},
   "outputs": [],
   "source": [
    "cadastro_produtos_transform = cadastro_produtos.select(\"*\",f.regexp_replace(\"Telefone\", \"[^0-9]\",\"\").cast(IntegerType())\\\n",
    "                                             .alias(\"Telefone_Consolidada\"),f.regexp_replace(\"CPF\",\"[.-]\",\"\").cast(IntegerType())\\\n",
    "                                             .alias(\"CPF_Consolidada\"),f.regexp_replace(\"CEP\",\"[-]\",\"\").alias(\"CEP_Consolidada\"),\n",
    "                                            f.regexp_replace(\"Nascimento\",\"[-]\",\"\").alias(\"Nascimento_Consolidada\"))\\\n",
    "                                                .drop(\"Telefone\",\"CPF\", \"CEP\",\"Nascimento\")"
   ]
  },
  {
   "cell_type": "code",
   "execution_count": 10,
   "id": "667f9524-2ac3-4fa2-b773-3691bdb43d30",
   "metadata": {},
   "outputs": [
    {
     "name": "stdout",
     "output_type": "stream",
     "text": [
      "+------------------+----+---------+--------------------+--------------------+---------------+---------------+----------------------+\n",
      "|              Nome|Sexo|Est_civil|               Email|Telefone_Consolidada|CPF_Consolidada|CEP_Consolidada|Nascimento_Consolidada|\n",
      "+------------------+----+---------+--------------------+--------------------+---------------+---------------+----------------------+\n",
      "|   Reginald Peters|   M| Solteiro| rpeters0@drupal.org|                NULL|           NULL|       64117975|              19910306|\n",
      "|         Ana Silby|   M| Solteiro| asilby1@webnode.com|                NULL|           NULL|       95573951|              19961002|\n",
      "|    Adda MacKenzie|   M| Solteiro|amackenzie2@webs.com|                NULL|           NULL|       05071530|              19910109|\n",
      "|      Stacia Deerr|   F|   Casado|     sdeerr3@loc.gov|                NULL|           NULL|       08501183|              19971225|\n",
      "|    Samuele Seager|   F| Solteiro| sseager4@github.com|                NULL|           NULL|       04302305|              19810615|\n",
      "|   Wilow Simonitto|   F|   Casado| wsimonitto5@who.int|                NULL|           NULL|       78118242|              19901205|\n",
      "|    Nicolea McCart|   F| Solteiro|   nmccart6@hibu.com|                NULL|           NULL|       77294125|              19961002|\n",
      "|      Mela Barbery|   M| Solteiro|  mbarbery7@ehow.com|                NULL|           NULL|       11750118|              19710313|\n",
      "|       Vin Beadles|   F| Solteiro|vbeadles8@amazon....|                NULL|           NULL|       60251031|              19861202|\n",
      "|     Brockie Otton|   F|   Casado|botton9@symantec.com|                NULL|           NULL|       35773524|              19930622|\n",
      "|      Glyn Pointin|   F| Solteiro|gpointina@auda.or...|                NULL|           NULL|       04483536|              19940519|\n",
      "|     Cory McDuffie|   M| Solteiro|  cmcduffieb@npr.org|                NULL|           NULL|       44069011|              19890906|\n",
      "|   Milo Mindenhall|   M| Solteiro|mmindenhallc@refe...|                NULL|           NULL|       77104874|              19810709|\n",
      "|      Cedric Dicey|   F| Solteiro|cdiceyd@opensourc...|                NULL|     1045118817|       07034935|              19960411|\n",
      "|Marshall Hargreves|   M|   Casado|mhargrevese@scien...|                NULL|           NULL|       02045254|              19790823|\n",
      "|      Corina Dyble|   M|   Casado|   cdyblef@apple.com|                NULL|           NULL|       29122076|              19930715|\n",
      "|  Hayley Wickstead|   F| Solteiro|hwicksteadg@wooth...|                NULL|           NULL|       27743608|              19850610|\n",
      "| Roarke Robertelli|   M| Solteiro|rrobertellih@blin...|                NULL|           NULL|       07657186|              19881123|\n",
      "|      Nappie Kulic|   M|   Casado| nkulici@smugmug.com|                NULL|           NULL|       20672390|              19870107|\n",
      "|   Pierce Rendbaek|   F|     NULL|  prendbaekj@bbb.org|                NULL|           NULL|       11739713|              19810530|\n",
      "+------------------+----+---------+--------------------+--------------------+---------------+---------------+----------------------+\n",
      "only showing top 20 rows\n",
      "\n"
     ]
    }
   ],
   "source": [
    "cadastro_produtos_transform.show()"
   ]
  },
  {
   "cell_type": "code",
   "execution_count": 11,
   "id": "24eae521-f3dc-40db-9c69-0d97296fd776",
   "metadata": {},
   "outputs": [
    {
     "name": "stdout",
     "output_type": "stream",
     "text": [
      "root\n",
      " |-- Nome: string (nullable = true)\n",
      " |-- Sexo: string (nullable = true)\n",
      " |-- Est_civil: string (nullable = true)\n",
      " |-- Email: string (nullable = true)\n",
      " |-- Telefone_Consolidada: integer (nullable = true)\n",
      " |-- CPF_Consolidada: integer (nullable = true)\n",
      " |-- CEP_Consolidada: string (nullable = true)\n",
      " |-- Nascimento_Consolidada: string (nullable = true)\n",
      "\n"
     ]
    }
   ],
   "source": [
    "cadastro_produtos_transform.printSchema()"
   ]
  },
  {
   "cell_type": "code",
   "execution_count": null,
   "id": "8223cf01-22c8-447f-9115-eee7c5b7d86b",
   "metadata": {},
   "outputs": [],
   "source": []
  },
  {
   "cell_type": "code",
   "execution_count": null,
   "id": "1769cf9f-70f6-467a-bd99-ce3bb8aa588a",
   "metadata": {},
   "outputs": [],
   "source": []
  },
  {
   "cell_type": "code",
   "execution_count": 9,
   "id": "194f3112-46d7-4e09-9fbd-4fe1e9049089",
   "metadata": {},
   "outputs": [],
   "source": [
    "cadastro_produtos = cadastro_produtos.select(\"*\",\n",
    "                                              f.trim(f.regexp_replace(\"Telefone\", \"[^0-9]\",\"\")).cast(IntegerType())\\\n",
    "                                              .alias(\"Telefone_Consolidada\"),\n",
    "                                              f.trim(f.regexp_replace(\"CPF\", \"[.-]\",\"\")).cast(IntegerType())\\\n",
    "                                              .alias(\"CPF_Consolidada\"),\n",
    "                                              f.trim(f.regexp_replace(\"CEP\", \"[-]\",\"\")).cast(IntegerType()).alias(\"CEP_Consolidada\"),\n",
    "                                              f.trim(f.regexp_replace(\"Nascimento\", \"[-]\",\"\")).cast(IntegerType()).alias(\"Nascimento_Consolidada\"))\\\n",
    "                                                .drop(\"Telefone\",\"CPF\", \"CEP\",\"Nascimento\")\n"
   ]
  },
  {
   "cell_type": "code",
   "execution_count": null,
   "id": "392c8acb-b5d3-477d-9097-38dff866ea13",
   "metadata": {},
   "outputs": [],
   "source": []
  },
  {
   "cell_type": "code",
   "execution_count": null,
   "id": "cbaaf7e5-4fcb-4167-a33e-fa5b18d9e54a",
   "metadata": {},
   "outputs": [],
   "source": []
  },
  {
   "cell_type": "code",
   "execution_count": null,
   "id": "48eaf808-abd7-46c9-ad04-c70697ac66e0",
   "metadata": {},
   "outputs": [],
   "source": []
  },
  {
   "cell_type": "code",
   "execution_count": null,
   "id": "44daedfa-9307-4876-bf21-422414e3bf38",
   "metadata": {},
   "outputs": [],
   "source": []
  },
  {
   "cell_type": "code",
   "execution_count": null,
   "id": "084a440b-fa2c-4d80-8eb3-d90ed42f7807",
   "metadata": {},
   "outputs": [],
   "source": []
  }
 ],
 "metadata": {
  "kernelspec": {
   "display_name": "Python 3 (ipykernel)",
   "language": "python",
   "name": "python3"
  },
  "language_info": {
   "codemirror_mode": {
    "name": "ipython",
    "version": 3
   },
   "file_extension": ".py",
   "mimetype": "text/x-python",
   "name": "python",
   "nbconvert_exporter": "python",
   "pygments_lexer": "ipython3",
   "version": "3.11.5"
  }
 },
 "nbformat": 4,
 "nbformat_minor": 5
}
